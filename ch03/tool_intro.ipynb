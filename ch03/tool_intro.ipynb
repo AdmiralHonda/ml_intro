{
  "cells": [
    {
      "cell_type": "markdown",
      "metadata": {
        "colab_type": "text",
        "id": "view-in-github"
      },
      "source": [
        "<a href=\"https://colab.research.google.com/github/AdmiralHonda/ml_intro/blob/main/ch02/mecab%E3%81%AE%E3%82%A4%E3%83%B3%E3%82%B9%E3%83%88%E3%83%BC%E3%83%AB%E3%81%A8%E4%BD%BF%E3%81%84%E6%96%B9.ipynb\" target=\"_parent\"><img src=\"https://colab.research.google.com/assets/colab-badge.svg\" alt=\"Open In Colab\"/></a>"
      ]
    },
    {
      "cell_type": "markdown",
      "metadata": {},
      "source": [
        "# 便利ツールの紹介\n",
        "\n",
        "ここでは言語処理を行う上で欠かせないツールについて紹介します。　　\n",
        "\n",
        "### 目次\n",
        "- MeCab\n",
        "- Pandas"
      ]
    },
    {
      "cell_type": "markdown",
      "metadata": {
        "id": "-iNC1OwfOAQD"
      },
      "source": [
        "## MeCab\n",
        "\n",
        "### 文章の分かち書き\n",
        "> 文章を単語の集合に変換  \n",
        "> 分割された各単語には品詞などの情報が付与\n",
        "> 内部で保持している辞書を見て分けている（辞書に大きく依存）\n",
        "\n",
        "日本語の文章は欧米のように単語間がスペースで区切られていないので、どういった単語の集合なのかを知るために単語単位で分割する必要があります。  \n",
        "このツールで目指すのは、  \n",
        "`\"文章\"　⇒　[\"単語\",\"単語\",...,\"単語\"]`  \n",
        "のように最終的には単語のリスト（文字列のリスト）に変換します。    \n",
        "\n",
        "### 分析の前処理に\n",
        "> 多くの分析ツール、機械学習のモデルでは文章を単語のリストとしたものを入力とする  \n",
        "\n",
        "### データ分析\n",
        "> ただ分割するだけではなく、品詞などもわかる\n",
        "> 品詞の分布などで考察もできる\n",
        "\n",
        "\n",
        "### 使うには\n",
        "> 作成者がコマンドツールとして提供  \n",
        "> コマンドを各プログラミング言語で実行し、結果をまた言語内で読み込める形式にしたライブラリが存在\n",
        "> PythonではMeCab(mecab-python)が存在\n",
        "\n",
        "\n",
        "1.   mecabのインストール（パッケージ管理やgitのソースから）\n",
        "2.   各言語でmecabを使うライブラリのインストール、または自作\n",
        "3.   必要なら目的の処理に適した辞書のインストール\n",
        "\n",
        "元ソース : https://taku910.github.io/mecab/"
      ]
    },
    {
      "cell_type": "code",
      "execution_count": null,
      "metadata": {
        "colab": {
          "background_save": true,
          "base_uri": "https://localhost:8080/"
        },
        "id": "vH2GoMHUItsV",
        "outputId": "4d2582ca-f2ba-42eb-afba-83e844745f9d"
      },
      "outputs": [],
      "source": [
        "# @title 下準備（ubuntu環境なのでaptでインストールしてます）\n",
        "# 形態素分析ライブラリーMeCab と 辞書(mecab-ipadic-NEologd)のインストール \n",
        "!apt-get -q -y install sudo file mecab libmecab-dev mecab-ipadic-utf8 git curl python-mecab > /dev/null # mecabの利用に必要なライブラリのインストール\n",
        "!git clone --depth 1 https://github.com/neologd/mecab-ipadic-neologd.git > /dev/null                    # gitから辞書ファイルのクローン\n",
        "!echo yes | mecab-ipadic-neologd/bin/install-mecab-ipadic-neologd -n > /dev/null 2>&1                   # クローンした辞書のインストール\n",
        "!pip install mecab-python3==0.7 > /dev/null                                                             # 0.7意外だと謎のエラーが発生して安定しない\n",
        "\n",
        "# シンボリックリンクによるエラー回避\n",
        "!ln -s /etc/mecabrc /usr/local/etc/mecabrc                                                              # 辞書の参照先にインストール先のディレクトリを追加\n",
        "!echo `mecab-config --dicdir`\"/mecab-ipadic-neologd\"                                                    # mecabの設定ファイルに新しく辞書を追加したことを追記"
      ]
    },
    {
      "cell_type": "code",
      "execution_count": null,
      "metadata": {
        "id": "oJUrmmnOJ2Hq"
      },
      "outputs": [],
      "source": [
        "\"\"\"\n",
        "MeCabを使用するオブジェクトの初期化\n",
        "\"\"\"\n",
        "import MeCab\n",
        "m = MeCab.Tagger('-d /usr/lib/x86_64-linux-gnu/mecab/dic/mecab-ipadic-neologd')                         # mecabはコマンドでは -d の後に追加した辞書のPATHを指定して追加の辞書を扱う\n",
        "                                                                                                        # MeCab.Taggerには主にコマンドのオプションを文字列で渡す。（なんもない場合はMeCab.Tagger()でもいい）"
      ]
    },
    {
      "cell_type": "code",
      "execution_count": null,
      "metadata": {
        "id": "rdaFK_e4KWbu"
      },
      "outputs": [],
      "source": [
        "\"\"\"\n",
        "基本的にparseToNodeで単語を分割し,返り値のnodeに一個目の単語が入ります。  \n",
        "二個目以降はnode.nextで参照します。\n",
        "データが連結リストになっています。\n",
        "また各nodeは様々なメンバ変数を持っています。例）surfaceは見出し語\n",
        "また、featuresで,区切りの文字列として解析結果を表示できます。\n",
        "\"\"\"\n",
        "node = m.parseToNode(\"そうして自身よりも遥かな高みにいるコムギとの対局を続けていくうちに自らの価値観に変化が生じ始め戸惑いを抱く。\")\n",
        "\n",
        "print(\"nodeの型：\",type(node),\"\\n\")\n",
        "\n",
        "while node:                                                                                             # 条件がnodeはNoneでないときに表示するのでwhileで回す方が楽\n",
        "    #単語を取得\n",
        "    word = node.surface                                                                                 # これで見出し語だけ抽出できます\n",
        "    #品詞を取得\n",
        "    pos = node.feature.split(\",\")                                                                       # 品詞や見出し語などの情報を文字列のリストに変換\n",
        "    print('{0} , {1}'.format(word, pos))\n",
        "    #次の単語に進める\n",
        "    node = node.next"
      ]
    },
    {
      "cell_type": "code",
      "execution_count": null,
      "metadata": {
        "colab": {
          "base_uri": "https://localhost:8080/"
        },
        "id": "06O-SB3pNwyR",
        "outputId": "87714faf-ea11-4b1f-92f6-bf2dcf755984"
      },
      "outputs": [
        {
          "name": "stdout",
          "output_type": "stream",
          "text": [
            "【生の学習データの例】:\n",
            "\n",
            " ['月末に菊間先生も誘って研究室で飲み会をします。多分費用は掛かりませんw', 'この前合コンで大失敗しました。', '話を途切れさせてはまずいと焦って自分の話しかしなかったのがいけなかったな', '橋本君合コンの設定とかしてくれない？']\n",
            "\n",
            "【分かち書き後の学習データ】:\n",
            "\n",
            " 月末 に 菊間 先生 も 誘っ て 研究室 で 飲み 会 を し ます 。 多分 費用 は 掛かり ませ ん w \n",
            "\n",
            "この 前 合コン で 大 失敗 し まし た 。 \n",
            "\n",
            "話 を 途切れ させ て は まずい と 焦っ て 自分 の 話 しか し なかっ た の が いけ なかっ た な \n",
            "\n",
            "橋本 君 合コン の 設定 とか し て くれ ない ？ \n",
            "\n",
            "\n"
          ]
        }
      ],
      "source": [
        "\"\"\"\n",
        "学習データ生成の例\n",
        "\"\"\"\n",
        "sample_corpas = [\\\n",
        "                 \"月末に菊間先生も誘って研究室で飲み会をします。多分費用は掛かりませんw\",\\\n",
        "                 \"この前合コンで大失敗しました。\",\\\n",
        "                 \"話を途切れさせてはまずいと焦って自分の話しかしなかったのがいけなかったな\",\\\n",
        "                 \"橋本君合コンの設定とかしてくれない？\"]\n",
        "print(\"【生の学習データの例】:\\n\\n\",sample_corpas)\n",
        "\n",
        "import MeCab\n",
        "\n",
        "m = MeCab.Tagger('-d /usr/lib/x86_64-linux-gnu/mecab/dic/mecab-ipadic-neologd -Owakati')                # -Owakatiというオプションで分かち書き(区切りはスペース)した文書を出力 \n",
        "\n",
        "output_corpus = \"\"                                                                                      # 最終的に出力される学習データ\n",
        "for sentence in sample_corpas:\n",
        "  output_corpus += m.parse(sentence) + \"\\n\"\n",
        "print(\"\\n【分かち書き後の学習データ】:\\n\\n\",output_corpus)"
      ]
    }
  ],
  "metadata": {
    "colab": {
      "collapsed_sections": [],
      "include_colab_link": true,
      "provenance": []
    },
    "kernelspec": {
      "display_name": "Python 3.10.6 ('lab_intro': venv)",
      "language": "python",
      "name": "python3"
    },
    "language_info": {
      "name": "python",
      "version": "3.10.6"
    },
    "vscode": {
      "interpreter": {
        "hash": "56d459344056b9a1c437cec0f3b21817bc9a46e9e03077ab5e991a187e3dddad"
      }
    }
  },
  "nbformat": 4,
  "nbformat_minor": 0
}
