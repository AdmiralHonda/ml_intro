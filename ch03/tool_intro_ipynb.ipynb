{
  "cells": [
    {
      "cell_type": "markdown",
      "metadata": {
        "id": "view-in-github",
        "colab_type": "text"
      },
      "source": [
        "<a href=\"https://colab.research.google.com/github/AdmiralHonda/ml_intro/blob/main/ch03/tool_intro_ipynb.ipynb\" target=\"_parent\"><img src=\"https://colab.research.google.com/assets/colab-badge.svg\" alt=\"Open In Colab\"/></a>"
      ]
    },
    {
      "cell_type": "markdown",
      "metadata": {
        "id": "sVPwZZ4fXLBC"
      },
      "source": [
        "# 便利ツールの紹介\n",
        "\n",
        "ここでは言語処理を行う上で欠かせないツールについて紹介します。　　\n",
        "\n",
        "### 目次\n",
        "- MeCab\n",
        "- Pandas"
      ]
    },
    {
      "cell_type": "markdown",
      "metadata": {
        "id": "-iNC1OwfOAQD"
      },
      "source": [
        "## MeCab\n",
        "\n",
        "### 文章の分かち書き\n",
        "\n",
        "> 文章を単語の集合に変換  \n",
        "> 分割された各単語には品詞などの情報が付与\n",
        "\n",
        "どんな機械学習でも統計学的な手法でも結局は単語単位に処理を行うのでアジア圏の言語ではまず分割するところから入ります。  \n",
        "ちなみに英語のように単語間がスペースで区切られている言語はスペース毎に分割するだけなのでスーパーイージーです。（その代わり品詞が曖昧過ぎるといった課題もあります。）  \n",
        "\n",
        "このツールで目指すのは、  \n",
        "`\"文章\"　⇒　[\"単語\",\"単語\",...,\"単語\"]`  \n",
        "のように最終的には単語のリスト（文字列のリスト）に変換します。    \n",
        "\n",
        "### 分析の前処理に\n",
        "> 多くの分析ツール、機械学習のモデルでは文章を単語のリストとしたものを入力とする  \n",
        "\n",
        "### データ分析\n",
        "> ただ分割するだけではなく、品詞などもわかる  \n",
        "> 品詞の分布などで考察もできる\n",
        "\n",
        "\n",
        "### 使うには\n",
        "> 作成者がコマンドツールとして提供  \n",
        "> コマンドを各プログラミング言語で実行し、結果をまた言語内で読み込める形式にしたライブラリが存在\n",
        "> PythonではMeCab(mecab-python)が存在\n",
        "\n",
        "\n",
        "1.   mecabのインストール（パッケージ管理やgitのソースから）\n",
        "2.   各言語でmecabを使うライブラリのインストール、または自作\n",
        "3.   必要なら目的の処理に適した辞書のインストール\n",
        "\n",
        "元ソース : https://taku910.github.io/mecab/"
      ]
    },
    {
      "cell_type": "code",
      "execution_count": null,
      "metadata": {
        "id": "vH2GoMHUItsV"
      },
      "outputs": [],
      "source": [
        "# @title 下準備（ubuntu環境なのでaptでインストールしてます）\n",
        "# 形態素分析ライブラリーMeCab と 辞書(mecab-ipadic-NEologd)のインストール \n",
        "!apt-get -q -y install sudo file mecab libmecab-dev mecab-ipadic-utf8 git curl python-mecab > /dev/null # mecabの利用に必要なライブラリのインストール\n",
        "!git clone --depth 1 https://github.com/neologd/mecab-ipadic-neologd.git > /dev/null                    # gitから辞書ファイルのクローン\n",
        "!echo yes | mecab-ipadic-neologd/bin/install-mecab-ipadic-neologd -n > /dev/null 2>&1                   # クローンした辞書のインストール\n",
        "!pip install mecab-python3==0.7 > /dev/null                                                             # 0.7意外だと謎のエラーが発生して安定しない\n",
        "\n",
        "# シンボリックリンクによるエラー回避\n",
        "!ln -s /etc/mecabrc /usr/local/etc/mecabrc                                                              # 辞書の参照先にインストール先のディレクトリを追加\n",
        "!echo `mecab-config --dicdir` \"/mecab-ipadic-neologd\"                                                    # mecabの設定ファイルに新しく辞書を追加したことを追記"
      ]
    },
    {
      "cell_type": "code",
      "execution_count": 2,
      "metadata": {
        "id": "oJUrmmnOJ2Hq"
      },
      "outputs": [],
      "source": [
        "\"\"\"\n",
        "MeCabを使用するオブジェクトの初期化\n",
        "MeCab.Taggerにオプション（コマンドの解析文章以外の引数）\n",
        "\"\"\"\n",
        "import MeCab\n",
        "m = MeCab.Tagger('-d /usr/lib/x86_64-linux-gnu/mecab/dic/mecab-ipadic-neologd')                         # mecabはコマンドでは -d の後に追加した辞書のPATHを指定して追加の辞書を扱う\n",
        "                                                                                                        # MeCab.Taggerには主にコマンドのオプションを文字列で渡す。（なんもない場合はMeCab.Tagger()でもいい）"
      ]
    },
    {
      "cell_type": "code",
      "execution_count": null,
      "metadata": {
        "id": "rdaFK_e4KWbu"
      },
      "outputs": [],
      "source": [
        "\"\"\"\n",
        "基本的にparseToNodeで単語を分割し,返り値のnodeに一個目の単語が入ります。  \n",
        "二個目以降はnode.nextで参照します。\n",
        "データが連結リストになっています。\n",
        "また各nodeは様々なメンバ変数を持っています。例）surfaceは見出し語\n",
        "また、featuresで,区切りの文字列として解析結果を表示できます。\n",
        ",で区切ったフィールドにどんな内容があるのかは\n",
        "https://taku910.github.io/mecab/#usage-toolsで見てみてください\n",
        "\"\"\"\n",
        "node = m.parseToNode(\"そうして自身よりも遥かな高みにいるコムギとの対局を続けていくうちに自らの価値観に変化が生じ始め戸惑いを抱く。\")\n",
        "\n",
        "print(\"nodeの型：\",type(node),\"\\n\")\n",
        "\n",
        "while node:                                                                                             # 条件で、nodeがNoneでないときに表示するのでwhileで回す方が楽\n",
        "\n",
        "    #品詞闇第五などの情報を取得\n",
        "    pos = node.feature.split(\",\")                                                                       # 品詞や見出し語などの情報を文字列のリストに変換\n",
        "    print(\"\\n単語：\",pos[6],\"\\n品詞：\",pos[0])\n",
        "    #次の単語に進める\n",
        "    node = node.next"
      ]
    },
    {
      "cell_type": "code",
      "execution_count": null,
      "metadata": {
        "id": "06O-SB3pNwyR"
      },
      "outputs": [],
      "source": [
        "\"\"\"\n",
        "学習データ生成の例\n",
        "文章を単語のリストに変換しています。\n",
        "\"\"\"\n",
        "\n",
        "sample_corpas = [\\\n",
        "                 \"家に可愛い人形とか置いてそう\",\\\n",
        "                 \"発表してる時に理解しやすい言語\",\\\n",
        "                 \"先行研究で消費電力減らすために\",\\\n",
        "                 \"今回金井くんの添削大変そうな問題\"]\n",
        "print(\"【生の学習データの例】:\\n\\n\",sample_corpas)\n",
        "\n",
        "import MeCab\n",
        "\n",
        "m = MeCab.Tagger('-d /usr/lib/x86_64-linux-gnu/mecab/dic/mecab-ipadic-neologd -Owakati')                # -Owakatiというオプションで分かち書き(区切りはスペース)した文書を出力 \n",
        "\n",
        "output_corpus = \"\"                                                                                      # 最終的に出力される学習データ\n",
        "for sentence in sample_corpas:\n",
        "  output_corpus += m.parse(sentence).split()\n",
        "print(\"\\n【分かち書き後の学習データ】:\\n\\n\",output_corpus)"
      ]
    },
    {
      "cell_type": "markdown",
      "metadata": {
        "id": "oGhw-QxRXLBH"
      },
      "source": [
        "## [Pandas](https://pandas.pydata.org/)\n",
        "\n",
        "pythonのライブラリで表形式のデータを処理するのに非常に便利です。  \n",
        "この３年生向けのイントロでは触れませんが、データからより学習するために不必要な記号を削除したり改行文字を取り払うなどの前処理をするときなどにも役に立ちます。  \n",
        "表のデータを列ごとに分析したり、データベースのように検索することもできます。  \n",
        "データの中身の特徴（平均値や分散）などを勝手に計算して表示する機能や図としてプロットするようなこともしてくれます。  \n",
        "\n",
        "また個人的に目玉の機能として、データベースのように検索するだけでなくデータの列に対して一括で任意の処理をすることができるのも魅力です。  \n",
        "\n",
        "以下は日本大学の授業の一部を表形式にしたデータの例を示します。  "
      ]
    },
    {
      "cell_type": "code",
      "execution_count": null,
      "metadata": {
        "id": "o69xPFfzXLBH"
      },
      "outputs": [],
      "source": [
        "import pandas as pd\n",
        "\n",
        "classroom_info = pd.read_csv(\"https://admiralhonda-share-tech.on.drv.tw/python_ml_intro/data/class_select_app/class_info.csv\")  # データの読み込み\n",
        "classroom_info = classroom_info[[\"教科名\",\"担当者\",\"概要\"]]\n",
        "classroom_info.head(10)             # .head(数)で先頭何個かを取得できるぞ"
      ]
    },
    {
      "cell_type": "code",
      "execution_count": null,
      "metadata": {
        "id": "afZIeYRuXLBI"
      },
      "outputs": [],
      "source": [
        "# @title 平均などの統計情報の取得\n",
        "# .describe()でデータの平均とか中央値が見れます。\n",
        "classroom_info.describe()                       # 文章の場合はデータの数などが表示される"
      ]
    },
    {
      "cell_type": "code",
      "execution_count": null,
      "metadata": {
        "id": "GC0Hv6UwXLBI"
      },
      "outputs": [],
      "source": [
        "# @title 列操作\n",
        "\n",
        "# 列の追加\n",
        "classroom_info[\"test\"] = 1\n",
        "print(classroom_info.head())\n",
        "\n",
        "\"\"\"\n",
        "上のコードで新しく\"test\"という列ができたと思います\n",
        "今回は要素をすべて1にしましたが、リストを渡すこともできます。\n",
        "\"\"\"\n",
        "\n",
        "# スーパー便利機能apply\n",
        "\"\"\"\n",
        "列の要素一つずつを対象とし、それを関数で処理して結果をリストにして新しく列を作成したり\n",
        "更新することができます。\n",
        "\"\"\"\n",
        "def add(num : int) -> int:\n",
        "    return num + 10\n",
        "\n",
        "classroom_info[\"test\"] = classroom_info[\"test\"].apply(add)\n",
        "print(classroom_info.head())"
      ]
    },
    {
      "cell_type": "code",
      "execution_count": null,
      "metadata": {
        "id": "bGJTjIguXLBI"
      },
      "outputs": [],
      "source": [
        "# @title 課題\n",
        "\n",
        "\"\"\"\n",
        "classroom_info[\"概要\"]の名詞の数を数える\n",
        "数えた結果はclassroom[\"名詞の数\"]に格納\n",
        "\n",
        "ヒント１：\n",
        "    入力の文章に含まれる名詞を数える関数を作成してapplyで適応させる\n",
        "ヒント２：\n",
        "    名詞を数える関数はmecabで形態素解析（分かち書き）し、指定項目に”名詞”と書いてあれば数える\n",
        "\"\"\"\n",
        "\n",
        "def culucute_meisi_num(sentense : str,m : MeCab.Tagger) -> int:\n",
        "    \"\"\"\n",
        "    名詞の数を数える処理を記述しよう\n",
        "    \"\"\"\n",
        "    pass\n",
        "\n",
        "classroom_info[\"名詞の数\"] = \"ここに何か書いて上記の関数を適応してください\"\n",
        "\n",
        "print(classroom_info.head())"
      ]
    }
  ],
  "metadata": {
    "colab": {
      "provenance": [],
      "include_colab_link": true
    },
    "kernelspec": {
      "display_name": "Python 3.10.6 ('lab_intro': venv)",
      "language": "python",
      "name": "python3"
    },
    "language_info": {
      "codemirror_mode": {
        "name": "ipython",
        "version": 3
      },
      "file_extension": ".py",
      "mimetype": "text/x-python",
      "name": "python",
      "nbconvert_exporter": "python",
      "pygments_lexer": "ipython3",
      "version": "3.10.6"
    },
    "vscode": {
      "interpreter": {
        "hash": "56d459344056b9a1c437cec0f3b21817bc9a46e9e03077ab5e991a187e3dddad"
      }
    }
  },
  "nbformat": 4,
  "nbformat_minor": 0
}