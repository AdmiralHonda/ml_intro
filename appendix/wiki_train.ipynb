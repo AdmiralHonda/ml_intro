{
 "cells": [
  {
   "cell_type": "markdown",
   "metadata": {},
   "source": [
    "[![Open In Colab](https://colab.research.google.com/assets/colab-badge.svg)](https://colab.research.google.com/github/AdmiralHonda/ml_intro/blob/main/appendix/wiki_train.ipynb)"
   ]
  },
  {
   "cell_type": "code",
   "execution_count": null,
   "metadata": {},
   "outputs": [],
   "source": [
    "# gensimでの学習、適切なパラメータの推定\n",
    "from gensim.models import word2vec\n",
    "\n",
    "sentences = word2vec.Text8Corpus(\"../data/wiki_wakati.txt\")\n",
    "\n",
    "loss_result = \"\"\n",
    "loss_result += \"vector\" + \",\" + \",\".join([ str(i) for i in range(1,11)]) +\"\\n\"\n",
    "\n",
    "for vector_size in range(100,1100,100):\n",
    "    loss_result += str(vector_size)\n",
    "    for window_size in range(1,11):\n",
    "        model = word2vec.Word2Vec(sentences, epochs=5,vector_size=vector_size,sg=0,min_count=5, window=window_size, workers=8,hs=0,compute_loss=True)\n",
    "        loss_result += \",\" + str(model.get_latest_training_loss())\n",
    "    loss_result += \"\\n\"\n",
    "\n",
    "print(loss_result)\n",
    "with open(\"comp_result.csv\",'w') as f:\n",
    "    f.write(loss_result)"
   ]
  },
  {
   "cell_type": "code",
   "execution_count": 1,
   "metadata": {},
   "outputs": [],
   "source": [
    "from gensim.models import word2vec\n",
    "\n",
    "sentences = word2vec.Text8Corpus(\"../data/wiki_wakati.txt\")\n",
    "model = word2vec.Word2Vec(sentences, epochs=5,vector_size=300,sg=0,min_count=5, window=3, workers=4,hs=0,compute_loss=False)\n",
    "model.save(\"../data/test_wiki.model\")"
   ]
  },
  {
   "cell_type": "code",
   "execution_count": 4,
   "metadata": {},
   "outputs": [
    {
     "ename": "UnicodeDecodeError",
     "evalue": "'utf-8' codec can't decode byte 0x80 in position 0: invalid start byte",
     "output_type": "error",
     "traceback": [
      "\u001b[1;31m---------------------------------------------------------------------------\u001b[0m",
      "\u001b[1;31mUnicodeDecodeError\u001b[0m                        Traceback (most recent call last)",
      "Cell \u001b[1;32mIn [4], line 3\u001b[0m\n\u001b[0;32m      1\u001b[0m \u001b[38;5;28;01mfrom\u001b[39;00m \u001b[38;5;21;01mgensim\u001b[39;00m\u001b[38;5;21;01m.\u001b[39;00m\u001b[38;5;21;01mmodels\u001b[39;00m \u001b[38;5;28;01mimport\u001b[39;00m KeyedVectors\n\u001b[1;32m----> 3\u001b[0m wiki_model \u001b[38;5;241m=\u001b[39m KeyedVectors\u001b[38;5;241m.\u001b[39mload_word2vec_format(\u001b[38;5;124m\"\u001b[39m\u001b[38;5;124m../data/test_wiki.model\u001b[39m\u001b[38;5;124m\"\u001b[39m,binary\u001b[38;5;241m=\u001b[39m\u001b[38;5;28;01mFalse\u001b[39;00m)\n",
      "File \u001b[1;32mc:\\Users\\AdmiralHonda\\work\\python_ml_intro\\ml_intro\\lab_intro\\lib\\site-packages\\gensim\\models\\keyedvectors.py:1723\u001b[0m, in \u001b[0;36mKeyedVectors.load_word2vec_format\u001b[1;34m(cls, fname, fvocab, binary, encoding, unicode_errors, limit, datatype, no_header)\u001b[0m\n\u001b[0;32m   1676\u001b[0m \u001b[39m@classmethod\u001b[39m\n\u001b[0;32m   1677\u001b[0m \u001b[39mdef\u001b[39;00m \u001b[39mload_word2vec_format\u001b[39m(\n\u001b[0;32m   1678\u001b[0m         \u001b[39mcls\u001b[39m, fname, fvocab\u001b[39m=\u001b[39m\u001b[39mNone\u001b[39;00m, binary\u001b[39m=\u001b[39m\u001b[39mFalse\u001b[39;00m, encoding\u001b[39m=\u001b[39m\u001b[39m'\u001b[39m\u001b[39mutf8\u001b[39m\u001b[39m'\u001b[39m, unicode_errors\u001b[39m=\u001b[39m\u001b[39m'\u001b[39m\u001b[39mstrict\u001b[39m\u001b[39m'\u001b[39m,\n\u001b[0;32m   1679\u001b[0m         limit\u001b[39m=\u001b[39m\u001b[39mNone\u001b[39;00m, datatype\u001b[39m=\u001b[39mREAL, no_header\u001b[39m=\u001b[39m\u001b[39mFalse\u001b[39;00m,\n\u001b[0;32m   1680\u001b[0m     ):\n\u001b[0;32m   1681\u001b[0m     \u001b[39m\"\"\"Load KeyedVectors from a file produced by the original C word2vec-tool format.\u001b[39;00m\n\u001b[0;32m   1682\u001b[0m \n\u001b[0;32m   1683\u001b[0m \u001b[39m    Warnings\u001b[39;00m\n\u001b[1;32m   (...)\u001b[0m\n\u001b[0;32m   1721\u001b[0m \n\u001b[0;32m   1722\u001b[0m \u001b[39m    \"\"\"\u001b[39;00m\n\u001b[1;32m-> 1723\u001b[0m     \u001b[39mreturn\u001b[39;00m _load_word2vec_format(\n\u001b[0;32m   1724\u001b[0m         \u001b[39mcls\u001b[39;49m, fname, fvocab\u001b[39m=\u001b[39;49mfvocab, binary\u001b[39m=\u001b[39;49mbinary, encoding\u001b[39m=\u001b[39;49mencoding, unicode_errors\u001b[39m=\u001b[39;49municode_errors,\n\u001b[0;32m   1725\u001b[0m         limit\u001b[39m=\u001b[39;49mlimit, datatype\u001b[39m=\u001b[39;49mdatatype, no_header\u001b[39m=\u001b[39;49mno_header,\n\u001b[0;32m   1726\u001b[0m     )\n",
      "File \u001b[1;32mc:\\Users\\AdmiralHonda\\work\\python_ml_intro\\ml_intro\\lab_intro\\lib\\site-packages\\gensim\\models\\keyedvectors.py:2062\u001b[0m, in \u001b[0;36m_load_word2vec_format\u001b[1;34m(cls, fname, fvocab, binary, encoding, unicode_errors, limit, datatype, no_header, binary_chunk_size)\u001b[0m\n\u001b[0;32m   2060\u001b[0m     fin \u001b[39m=\u001b[39m utils\u001b[39m.\u001b[39mopen(fname, \u001b[39m'\u001b[39m\u001b[39mrb\u001b[39m\u001b[39m'\u001b[39m)\n\u001b[0;32m   2061\u001b[0m \u001b[39melse\u001b[39;00m:\n\u001b[1;32m-> 2062\u001b[0m     header \u001b[39m=\u001b[39m utils\u001b[39m.\u001b[39;49mto_unicode(fin\u001b[39m.\u001b[39;49mreadline(), encoding\u001b[39m=\u001b[39;49mencoding)\n\u001b[0;32m   2063\u001b[0m     vocab_size, vector_size \u001b[39m=\u001b[39m [\u001b[39mint\u001b[39m(x) \u001b[39mfor\u001b[39;00m x \u001b[39min\u001b[39;00m header\u001b[39m.\u001b[39msplit()]  \u001b[39m# throws for invalid file format\u001b[39;00m\n\u001b[0;32m   2064\u001b[0m \u001b[39mif\u001b[39;00m limit:\n",
      "File \u001b[1;32mc:\\Users\\AdmiralHonda\\work\\python_ml_intro\\ml_intro\\lab_intro\\lib\\site-packages\\gensim\\utils.py:365\u001b[0m, in \u001b[0;36many2unicode\u001b[1;34m(text, encoding, errors)\u001b[0m\n\u001b[0;32m    363\u001b[0m \u001b[39mif\u001b[39;00m \u001b[39misinstance\u001b[39m(text, \u001b[39mstr\u001b[39m):\n\u001b[0;32m    364\u001b[0m     \u001b[39mreturn\u001b[39;00m text\n\u001b[1;32m--> 365\u001b[0m \u001b[39mreturn\u001b[39;00m \u001b[39mstr\u001b[39;49m(text, encoding, errors\u001b[39m=\u001b[39;49merrors)\n",
      "\u001b[1;31mUnicodeDecodeError\u001b[0m: 'utf-8' codec can't decode byte 0x80 in position 0: invalid start byte"
     ]
    }
   ],
   "source": [
    "from gensim.models import KeyedVectors\n",
    "\n",
    "wiki_model = KeyedVectors.load_word2vec_format(\"../data/test_wiki.model\",binary=True)"
   ]
  }
 ],
 "metadata": {
  "kernelspec": {
   "display_name": "Python 3.10.6 ('lab_intro': venv)",
   "language": "python",
   "name": "python3"
  },
  "language_info": {
   "codemirror_mode": {
    "name": "ipython",
    "version": 3
   },
   "file_extension": ".py",
   "mimetype": "text/x-python",
   "name": "python",
   "nbconvert_exporter": "python",
   "pygments_lexer": "ipython3",
   "version": "3.10.6"
  },
  "orig_nbformat": 4,
  "vscode": {
   "interpreter": {
    "hash": "56d459344056b9a1c437cec0f3b21817bc9a46e9e03077ab5e991a187e3dddad"
   }
  }
 },
 "nbformat": 4,
 "nbformat_minor": 2
}
