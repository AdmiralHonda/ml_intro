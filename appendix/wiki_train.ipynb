{
  "cells": [
    {
      "cell_type": "markdown",
      "metadata": {
        "id": "YlkO-MhBY2BE"
      },
      "source": [
        "[![Open In Colab](https://colab.research.google.com/assets/colab-badge.svg)](https://colab.research.google.com/github/AdmiralHonda/ml_intro/blob/main/appendix/wiki_train.ipynb)"
      ]
    },
    {
      "cell_type": "code",
      "execution_count": null,
      "metadata": {
        "id": "pv7edYATY2BH"
      },
      "outputs": [],
      "source": [
        "# gensimでの学習、適切なパラメータの推定\n",
        "from gensim.models import word2vec\n",
        "\n",
        "sentences = word2vec.Text8Corpus(\"./wiki_wakati.txt\")\n",
        "\n",
        "loss_result = \"\"\n",
        "loss_result += \"vector\" + \",\" + \",\".join([ str(i) for i in range(1,11)]) +\"\\n\"\n",
        "\n",
        "for vector_size in range(100,1100,100):\n",
        "    loss_result += str(vector_size)\n",
        "    for window_size in range(1,11):\n",
        "        model = word2vec.Word2Vec(sentences, epochs=5,vector_size=vector_size,sg=0,min_count=5, window=window_size, workers=8,hs=0,compute_loss=True)\n",
        "        loss_result += \",\" + str(model.get_latest_training_loss())\n",
        "    loss_result += \"\\n\"\n",
        "\n",
        "print(loss_result)\n",
        "with open(\"comp_result.csv\",'w') as f:\n",
        "    f.write(loss_result)"
      ]
    },
    {
      "cell_type": "code",
      "execution_count": 3,
      "metadata": {
        "id": "86eEqXxKY2BI"
      },
      "outputs": [],
      "source": [
        "# とりあえず適当に学習してみる\n",
        "from gensim.models import word2vec\n",
        "\n",
        "sentences = word2vec.Text8Corpus(\"./wiki_wakati.txt\")\n",
        "model = word2vec.Word2Vec(sentences, epochs=5,vector_size=300,sg=0,min_count=5, window=3, workers=4,hs=0,compute_loss=False)\n",
        "model.wv.save_word2vec_format(\"./wiki_test.vec.pt\",binary=True)"
      ]
    },
    {
      "cell_type": "code",
      "execution_count": 2,
      "metadata": {
        "colab": {
          "base_uri": "https://localhost:8080/",
          "height": 350
        },
        "id": "r4H7ajdVY2BI",
        "outputId": "2ec033c6-bc03-409c-9c23-caedb03a31a5"
      },
      "outputs": [],
      "source": [
        "from gensim.models import KeyedVectors\n",
        "\n",
        "wiki_model = KeyedVectors.load_word2vec_format(\"./wiki_test.vec.pt\",binary=True)"
      ]
    },
    {
      "cell_type": "code",
      "execution_count": null,
      "metadata": {},
      "outputs": [],
      "source": [
        "import pandas as pd\n",
        "\n",
        "classroom_info = pd.read_csv(\"https://admiralhonda-share-tech.on.drv.tw/python_ml_intro/data/class_select_app/class_info.csv\")\n",
        "classroom_info.head()"
      ]
    },
    {
      "cell_type": "code",
      "execution_count": 26,
      "metadata": {},
      "outputs": [],
      "source": [
        "classroom_info_dict = classroom_info.to_dict(orient='record')\n",
        "print(classroom_info_dict)"
      ]
    },
    {
      "cell_type": "code",
      "execution_count": null,
      "metadata": {},
      "outputs": [],
      "source": [
        "\n",
        "\n",
        "for classroom in classroom_info_dict:\n",
        "    "
      ]
    }
  ],
  "metadata": {
    "colab": {
      "provenance": []
    },
    "kernelspec": {
      "display_name": "Python 3.10.6 ('lab_intro': venv)",
      "language": "python",
      "name": "python3"
    },
    "language_info": {
      "codemirror_mode": {
        "name": "ipython",
        "version": 3
      },
      "file_extension": ".py",
      "mimetype": "text/x-python",
      "name": "python",
      "nbconvert_exporter": "python",
      "pygments_lexer": "ipython3",
      "version": "3.10.6"
    },
    "orig_nbformat": 4,
    "vscode": {
      "interpreter": {
        "hash": "56d459344056b9a1c437cec0f3b21817bc9a46e9e03077ab5e991a187e3dddad"
      }
    }
  },
  "nbformat": 4,
  "nbformat_minor": 0
}
