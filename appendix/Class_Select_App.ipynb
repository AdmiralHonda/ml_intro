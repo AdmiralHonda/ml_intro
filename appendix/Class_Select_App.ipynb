{
  "cells": [
    {
      "cell_type": "code",
      "execution_count": null,
      "metadata": {
        "id": "9dowu7u_bx9K"
      },
      "outputs": [],
      "source": [
        "# 下準備\n",
        "# 形態素分析ライブラリーMeCab と 辞書(mecab-ipadic-NEologd)のインストール \n",
        "!apt-get -q -y install sudo file mecab libmecab-dev mecab-ipadic-utf8 git curl python-mecab > /dev/null # mecabの利用に必要なライブラリのインストール\n",
        "!git clone --depth 1 https://github.com/neologd/mecab-ipadic-neologd.git > /dev/null                    # gitから辞書ファイルのクローン\n",
        "!echo yes | mecab-ipadic-neologd/bin/install-mecab-ipadic-neologd -n > /dev/null 2>&1                   # クローンした辞書のインストール\n",
        "!pip install mecab-python3==0.7 > /dev/null                                                             # 0.7以外だと謎のエラーが発生して安定しないことがある\n",
        "\n",
        "# シンボリックリンクによるエラー回避\n",
        "!ln -s /etc/mecabrc /usr/local/etc/mecabrc                                                              # 辞書の参照先にインストール先のディレクトリを追加\n",
        "!echo `mecab-config --dicdir`\"/mecab-ipadic-neologd\" \n",
        "\n",
        "!pip install fastapi uvicorn nest-asyncio pyngrok                                                       # 追記\n",
        "!pip install jinja2"
      ]
    },
    {
      "cell_type": "code",
      "execution_count": null,
      "metadata": {
        "id": "0gHGTSdretgj"
      },
      "outputs": [],
      "source": [
        "\"\"\"\n",
        "下準備\n",
        "\"\"\"\n",
        "# ドライブのマウント\n",
        "from google.colab import drive\n",
        "drive.mount(\"/content/drive\")"
      ]
    },
    {
      "cell_type": "code",
      "execution_count": null,
      "metadata": {
        "id": "bSNVMoJGiHGQ"
      },
      "outputs": [],
      "source": [
        "# アプリで配信するhtmlファイルの配置\n",
        "!mkdir templates\n",
        "!curl -v -o templates/index.html https://admiralhonda-share-tech.on.drv.tw/python_ml_intro/app/class_app_index.html\n",
        "!ls templates/\n",
        "!cat templates/index.html"
      ]
    },
    {
      "cell_type": "code",
      "execution_count": null,
      "metadata": {
        "id": "W88OrOYTb_UA"
      },
      "outputs": [],
      "source": [
        "import numpy as np\n",
        "import json\n",
        "from gensim.models import KeyedVectors\n",
        "from sklearn.metrics.pairwise import cosine_similarity\n",
        "import MeCab\n",
        "import logging\n",
        "\n",
        "class ClassAppSelect():\n",
        "\n",
        "  def __init__(self,content_path, model_path,content_vec_path,) -> None:\n",
        "    logger = logging.getLogger(\"uvicorn\")\n",
        "    logger.info(\"initialize start.\")\n",
        "\n",
        "    self.tokenizer = MeCab.Tagger(\"-d /usr/lib/x86_64-linux-gnu/mecab/dic/mecab-ipadic-neologd -Owakati\")\n",
        "    with open(\"/content/drive/MyDrive/python_ml_intro/data/class_select_app/content_info_dict.json\",\"r\") as f:\n",
        "      self.content = json.load(f)\n",
        "    \n",
        "    self.wv = KeyedVectors.load_word2vec_format(\"/content/drive/MyDrive/python_ml_intro/data/class_select_app/wiki_word_vec.pt\",binary=True)\n",
        "    self.content_vec = np.load(\"/content/drive/MyDrive/python_ml_intro/data/class_select_app/content_vec.npy\")\n",
        "    \n",
        "    logger.info(\"initialize done.\")\n",
        "\n",
        "\n",
        "  def generate_query(self,query: str) -> np.ndarray:\n",
        "    sum = np.zeros(300)                                    # 授業の文章ベクトルを格納する要素を0とした要素数300ノベクトルを初期化。\n",
        "    words = self.tokenizer.parse(query)[:-1].split(\" \")    # 集約した文章を単語のリストに分割。mecabで分割した際には単語間にスペースが入った文字列として出力。最後の改行は邪魔なので考慮していない。\n",
        "    recg_word_num = 0                                      # 文章内で認識できた単語の数を数える\n",
        "\n",
        "    for word in words:\n",
        "      try:\n",
        "        sum += self.wv[word]\n",
        "        recg_word_num += 1\n",
        "      except KeyError:                                     # 学習していない単語の場合は考慮しない\n",
        "        pass\n",
        "      \n",
        "    # もし学習済みの単語がない場合はランダムなベクトルを割り当てる\n",
        "    if recg_word_num == 0:\n",
        "      return np.random(300)\n",
        "    else:\n",
        "      return sum / recg_word_num\n",
        "\n",
        "\n",
        "  def culculate_sim(self,query :np.ndarray) -> int:\n",
        "    input_query = self.generate_query(query)\n",
        "    sim_rate = cosine_similarity([input_query],self.content_vec)\n",
        "    return self.content[np.argmax(sim_rate)]"
      ]
    },
    {
      "cell_type": "code",
      "execution_count": null,
      "metadata": {
        "id": "e4TnwEKeiF_m"
      },
      "outputs": [],
      "source": [
        "test = ClassAppSelect()"
      ]
    },
    {
      "cell_type": "code",
      "execution_count": null,
      "metadata": {
        "colab": {
          "base_uri": "https://localhost:8080/"
        },
        "id": "e_DF80Q4jPtn",
        "outputId": "8898d066-6304-4484-d7f7-d8178da75229"
      },
      "outputs": [
        {
          "name": "stdout",
          "output_type": "stream",
          "text": [
            "{'教科名': '情報と職業', '担当者': '松村\\u3000哲哉', '授業目的': '「社会人として仕事をする」ということの目的、意義を理解し、キャリアプランを立案する方法を習得する。また、情報系企業の業種分野ごとに、企業の取り組みと技術者に求められる技術力と社会人基礎力について理解し、今後の学生生活の中で身につけておくべき技術力と社会人基礎力を向上させる対策を立案する,', '教育目標': '（１）「社会人として仕事をする」ということの目的、意義を理解し、キャリアプランを立案する方法を習得できる。。（２）将来、自分にとって本当に望ましい企業に就職するための準備として、情報系企業の業種分野ごとに、将来の動向、解決すべき課題、課題解決に向けての取り組みと技術者に求められる技術力と社会人基礎力について理解できる．（３）自分の就職する企業を想定して、志望理由と自分が所有すべき技術力と社会人基礎力を検討し、今後の学生生活の中で身につけておくべき技術力と社会人基礎力を向上させる対策を立案できる．', '概要': '授業は、キャリアデザインの講義を行い、自己分析等を通じて自分の将来設計についての手法を学ぶ。また、６名の社会人講師（情報関連企業に勤務）から、企業の業種分野ごとに将来の動向、解決すべき課題、課題解決に向けての取り組みと技術者に求められる技術力と社会人基礎力のお話を伺い、その後、就職する企業を想定して、志望理由と自分が所有すべき技術力と社会人基礎力を学ぶ。', '成績評価': '評価は絶対評価とし、授業内試験（１）で50％、講義毎のレポートで50％の成績評価を行い、総合して100点満点で採点する．合計60点以上を合格とする．', '課題': 'レポートの採点結果の点数については随時開示する．'}\n"
          ]
        }
      ],
      "source": [
        "print(test.culculate_sim(\"キャリアプラン\"))"
      ]
    },
    {
      "cell_type": "code",
      "execution_count": null,
      "metadata": {
        "id": "esLRvwvkR7zl"
      },
      "outputs": [],
      "source": [
        "from fastapi import FastAPI,Request\n",
        "from fastapi.middleware.cors import CORSMiddleware\n",
        "from fastapi.templating import Jinja2Templates\n",
        "\n",
        "app = FastAPI()\n",
        "class_select_app = ClassAppSelect()\n",
        "templates = Jinja2Templates(directory='templates')\n",
        "\n",
        "app.add_middleware(\n",
        "    # くそ雑魚セキュリティ\n",
        "    CORSMiddleware,\n",
        "    allow_origins=['*'],\n",
        "    allow_credentials=True,\n",
        "    allow_methods=['*'],\n",
        "    allow_headers=['*'],\n",
        ")\n",
        "\n",
        "@app.get('/')\n",
        "async def root(request: Request):\n",
        "    return templates.TemplateResponse(\"index.html\",{\"request\":request})\n",
        "\n",
        "@app.get(\"/app\")\n",
        "async def user_input(user_req: str) -> dict:\n",
        "  return class_select_app.culculate_sim(user_req)"
      ]
    },
    {
      "cell_type": "code",
      "execution_count": null,
      "metadata": {
        "id": "qesQ1PiSSnvI"
      },
      "outputs": [],
      "source": [
        "import nest_asyncio\n",
        "from pyngrok import ngrok,conf\n",
        "import uvicorn\n",
        "\n",
        "# 認証トークンの設定。htmlファイルを配信するために必要です。\n",
        "conf.get_default().auth_token = \"1d2GMN6jsGz90I1W8dNizJJUnWy_CqQHkfxVG8zypGbHnsQL\"\n",
        "\n",
        "ngrok_tunnel = ngrok.connect(8000)\n",
        "print('Public URL:', ngrok_tunnel.public_url)\n",
        "nest_asyncio.apply()\n",
        "uvicorn.run(app, port=8000)"
      ]
    }
  ],
  "metadata": {
    "colab": {
      "authorship_tag": "ABX9TyOSWqi2qjpkaWwUs4oI5mrF",
      "collapsed_sections": [],
      "provenance": []
    },
    "kernelspec": {
      "display_name": "Python 3.10.6 ('lab_intro': venv)",
      "language": "python",
      "name": "python3"
    },
    "language_info": {
      "name": "python",
      "version": "3.10.6"
    },
    "vscode": {
      "interpreter": {
        "hash": "56d459344056b9a1c437cec0f3b21817bc9a46e9e03077ab5e991a187e3dddad"
      }
    }
  },
  "nbformat": 4,
  "nbformat_minor": 0
}
