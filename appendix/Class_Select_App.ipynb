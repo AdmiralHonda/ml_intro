{
  "cells": [
    {
      "cell_type": "markdown",
      "metadata": {
        "colab_type": "text",
        "id": "view-in-github"
      },
      "source": [
        "<a href=\"https://colab.research.google.com/github/AdmiralHonda/ml_intro/blob/main/appendix/Class_Select_App.ipynb\" target=\"_parent\"><img src=\"https://colab.research.google.com/assets/colab-badge.svg\" alt=\"Open In Colab\"/></a>"
      ]
    },
    {
      "cell_type": "code",
      "execution_count": null,
      "metadata": {
        "cellView": "form",
        "id": "9dowu7u_bx9K"
      },
      "outputs": [],
      "source": [
        "#@title おまじない（ちょっと追加）\n",
        "# 下準備\n",
        "# 形態素分析ライブラリーMeCab と 辞書(mecab-ipadic-NEologd)のインストール \n",
        "!apt-get -q -y install sudo file mecab libmecab-dev mecab-ipadic-utf8 git curl python-mecab > /dev/null # mecabの利用に必要なライブラリのインストール\n",
        "!git clone --depth 1 https://github.com/neologd/mecab-ipadic-neologd.git > /dev/null                    # gitから辞書ファイルのクローン\n",
        "!echo yes | mecab-ipadic-neologd/bin/install-mecab-ipadic-neologd -n > /dev/null 2>&1                   # クローンした辞書のインストール\n",
        "!pip install mecab-python3==0.7 > /dev/null                                                             # 0.7以外だと謎のエラーが発生して安定しないことがある\n",
        "\n",
        "# シンボリックリンクによるエラー回避\n",
        "!ln -s /etc/mecabrc /usr/local/etc/mecabrc                                                              # 辞書の参照先にインストール先のディレクトリを追加\n",
        "!echo `mecab-config --dicdir`\"/mecab-ipadic-neologd\" \n",
        "\n",
        "!pip install fastapi uvicorn nest-asyncio pyngrok                                                       # 追記\n",
        "!pip install jinja2"
      ]
    },
    {
      "cell_type": "markdown",
      "metadata": {
        "id": "EvZ9e5VALlLD"
      },
      "source": [
        "# アプリとして実装\n",
        "\n",
        "今回習った内容ををwebアプリとして実装します。ただ、全てを解説することはできないので以下の部分のみを紹介します。  \n",
        "\n",
        "- webアプリについて\n",
        "- アプリの基幹部分をクラスとして実装\n",
        "- webフレームワークでの使い方  \n",
        "\n",
        "申し訳ないですが以下の部分は質問でのみ解説します。  \n",
        "\n",
        "- webアプリの基礎\n",
        "- httpsについて\n",
        "- ログの取り方\n",
        "\n",
        "なんとなくアプリには校風なのが必要なんだなと感じてもらえれば幸いです。  \n",
        "\n",
        "## WEBアプリについて\n",
        "\n",
        "簡単にwebアプリについて紹介します。  \n",
        "まずwebアプリが何なのかというと、ユーザーの入力を受け付けるwebサイトです。  \n",
        "見るだけではなく、見る内容を変更したり、何かを購入したりできるものです。  \n",
        "\n",
        "<br>\n",
        "\n",
        "通常のサイトを例にした構成を以下に示します。\n",
        "\n",
        "![web1.0](https://pub-dd9160b14dab4fd08df96674dc1b9692.r2.dev/web1.png)\n",
        "\n",
        "この場合は指定されたデータ（urlで指定）をwebサーバが探してユーザーに返しているだけです。  \n",
        "\n",
        "<br>\n",
        "\n",
        "一方webアプリの場合は  \n",
        "\n",
        "![web2.0](https://pub-dd9160b14dab4fd08df96674dc1b9692.r2.dev/web2.png)  \n",
        "\n",
        "ユーザーのリクエスト(urlで指定)をもとに処理を行い、結果を返す仕組みを備えたwebサイトです。  \n",
        "\n",
        "今回はこの処理の部分は「ユーザーの検索クエリを基に一番合っていそうな授業を探す」といった計算になります。  "
      ]
    },
    {
      "cell_type": "code",
      "execution_count": null,
      "metadata": {
        "id": "0gHGTSdretgj"
      },
      "outputs": [],
      "source": [
        "\"\"\"\n",
        "下準備\n",
        "\"\"\"\n",
        "# ドライブのマウント\n",
        "from google.colab import drive\n",
        "drive.mount(\"/content/drive\")\n",
        "\n",
        "# アプリで配信するhtmlの配置\n",
        "!mkdir templates\n",
        "!curl -v -o templates/index.html https://admiralhonda-share-tech.on.drv.tw/python_ml_intro/app/class_app_index.html"
      ]
    },
    {
      "cell_type": "code",
      "execution_count": null,
      "metadata": {
        "id": "W88OrOYTb_UA"
      },
      "outputs": [],
      "source": [
        "import numpy as np\n",
        "import json\n",
        "from gensim.models import KeyedVectors\n",
        "from sklearn.metrics.pairwise import cosine_similarity\n",
        "import MeCab\n",
        "import logging\n",
        "\n",
        "class ClassAppSelect():\n",
        "\n",
        "  def __init__(self) -> None:\n",
        "    logger = logging.getLogger(\"uvicorn\")\n",
        "    logger.info(\"initialize start.\")\n",
        "\n",
        "    self.tokenizer = MeCab.Tagger(\"-d /usr/lib/x86_64-linux-gnu/mecab/dic/mecab-ipadic-neologd -Owakati\")\n",
        "    with open(\"/content/drive/MyDrive/python_ml_intro/content_info_dict.json\",\"r\") as f:\n",
        "      self.content = json.load(f)\n",
        "    \n",
        "    self.wv = KeyedVectors.load_word2vec_format(\"/content/drive/MyDrive/python_ml_intro/wiki_test_vec.pt\",binary=True)\n",
        "    self.content_vec = np.load(\"/content/drive/MyDrive/python_ml_intro/content_vec.npy\")\n",
        "    \n",
        "    logger.info(\"initialize done.\")\n",
        "\n",
        "\n",
        "  def generate_query(self,query: str) -> np.ndarray:\n",
        "    sum = np.zeros(300)                                    # 授業の文章ベクトルを格納する、すべての要素を0とした要素数300のベクトルを初期化。\n",
        "    words = self.tokenizer.parse(query)[:-1].split(\" \")    # 集約した文章を単語のリストに分割。mecabで分割した際には単語間にスペースが入った文字列として出力。最後の改行は邪魔なので考慮していない。\n",
        "    recg_word_num = 0                                      # 文章内で認識できた単語の数を数える\n",
        "\n",
        "    for word in words:\n",
        "      try:\n",
        "        sum += self.wv[word]\n",
        "        recg_word_num += 1\n",
        "      except KeyError:                                     # 学習していない単語の場合は考慮しない\n",
        "        pass\n",
        "      \n",
        "    if recg_word_num == 0:                                 # もし学習済みの単語がない場合はランダムなベクトルを割り当てる\n",
        "      return np.random(300)\n",
        "    else:                                                  # 合計したベクトルを認識した単語の数で割って平均をとる\n",
        "      return sum / recg_word_num\n",
        "\n",
        "\n",
        "  def culculate_sim(self,query :np.ndarray) -> int:\n",
        "    input_query = self.generate_query(query)\n",
        "    sim_rate = cosine_similarity([input_query],self.content_vec)\n",
        "    return self.content[np.argmax(sim_rate)]"
      ]
    },
    {
      "cell_type": "code",
      "execution_count": null,
      "metadata": {
        "id": "e4TnwEKeiF_m"
      },
      "outputs": [],
      "source": [
        "test = ClassAppSelect()"
      ]
    },
    {
      "cell_type": "code",
      "execution_count": null,
      "metadata": {
        "colab": {
          "base_uri": "https://localhost:8080/"
        },
        "id": "e_DF80Q4jPtn",
        "outputId": "8898d066-6304-4484-d7f7-d8178da75229"
      },
      "outputs": [],
      "source": [
        "print(test.culculate_sim(\"キャリアプラン\"))"
      ]
    },
    {
      "cell_type": "code",
      "execution_count": null,
      "metadata": {
        "id": "esLRvwvkR7zl"
      },
      "outputs": [],
      "source": [
        "from fastapi import FastAPI,Request\n",
        "from fastapi.middleware.cors import CORSMiddleware\n",
        "from fastapi.templating import Jinja2Templates\n",
        "\n",
        "app = FastAPI()\n",
        "class_select_app = ClassAppSelect()\n",
        "templates = Jinja2Templates(directory='templates')\n",
        "\n",
        "app.add_middleware(\n",
        "    CORSMiddleware,\n",
        "    allow_origins=['*'],\n",
        "    allow_credentials=True,\n",
        "    allow_methods=['*'],\n",
        "    allow_headers=['*'],\n",
        ")\n",
        "\n",
        "@app.get('/')\n",
        "async def root(request: Request):\n",
        "    return templates.TemplateResponse(\"index.html\",{\"request\":request})\n",
        "\n",
        "@app.get(\"/app\")\n",
        "async def user_input(user_req: str) -> dict:\n",
        "  return class_select_app.culculate_sim(user_req)"
      ]
    },
    {
      "cell_type": "markdown",
      "metadata": {
        "id": "2ATh5SZ1L_Rz"
      },
      "source": [
        "## "
      ]
    },
    {
      "cell_type": "code",
      "execution_count": null,
      "metadata": {
        "colab": {
          "base_uri": "https://localhost:8080/"
        },
        "id": "qesQ1PiSSnvI",
        "outputId": "1579f9d5-d3e1-47de-dfe6-f7317f17efbd"
      },
      "outputs": [
        {
          "name": "stdout",
          "output_type": "stream",
          "text": []
        },
        {
          "name": "stderr",
          "output_type": "stream",
          "text": [
            "INFO:     Started server process [74]\n",
            "INFO:     Waiting for application startup.\n",
            "INFO:     Application startup complete.\n",
            "INFO:     Uvicorn running on http://127.0.0.1:8000 (Press CTRL+C to quit)\n"
          ]
        },
        {
          "name": "stdout",
          "output_type": "stream",
          "text": [
            "Public URL: http://6b42-34-125-93-121.ngrok.io\n",
            "INFO:     133.43.7.144:0 - \"GET / HTTP/1.1\" 200 OK\n",
            "INFO:     133.43.7.144:0 - \"GET /favicon.ico HTTP/1.1\" 404 Not Found\n",
            "INFO:     210.139.253.39:0 - \"GET / HTTP/1.1\" 200 OK\n",
            "INFO:     133.43.7.144:0 - \"GET /app?user_req=%E3%82%AD%E3%83%A3%E3%83%AA%E3%82%A2%E3%83%97%E3%83%A9%E3%83%B3 HTTP/1.1\" 200 OK\n"
          ]
        }
      ],
      "source": [
        "import nest_asyncio\n",
        "from pyngrok import ngrok,conf\n",
        "import uvicorn\n",
        "\n",
        "# 認証トークンの設定。htmlファイルを配信するために必要です。\n",
        "conf.get_default().auth_token = \"1d2GMN6jsGz90I1W8dNizJJUnWy_CqQHkfxVG8zypGbHnsQL\"\n",
        "\n",
        "ngrok_tunnel = ngrok.connect(8000)\n",
        "print('Public URL:', ngrok_tunnel.public_url)\n",
        "nest_asyncio.apply()\n",
        "uvicorn.run(app, port=8000)"
      ]
    }
  ],
  "metadata": {
    "colab": {
      "include_colab_link": true,
      "provenance": []
    },
    "kernelspec": {
      "display_name": "Python 3.10.6 ('lab_intro': venv)",
      "language": "python",
      "name": "python3"
    },
    "language_info": {
      "name": "python",
      "version": "3.10.6"
    },
    "vscode": {
      "interpreter": {
        "hash": "56d459344056b9a1c437cec0f3b21817bc9a46e9e03077ab5e991a187e3dddad"
      }
    }
  },
  "nbformat": 4,
  "nbformat_minor": 0
}
