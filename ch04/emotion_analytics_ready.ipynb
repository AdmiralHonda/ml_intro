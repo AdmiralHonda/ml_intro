{
  "nbformat": 4,
  "nbformat_minor": 0,
  "metadata": {
    "colab": {
      "provenance": [],
      "authorship_tag": "ABX9TyMCXYGopIabOuMK7UFpcPfV",
      "include_colab_link": true
    },
    "kernelspec": {
      "name": "python3",
      "display_name": "Python 3"
    },
    "language_info": {
      "name": "python"
    }
  },
  "cells": [
    {
      "cell_type": "markdown",
      "metadata": {
        "id": "view-in-github",
        "colab_type": "text"
      },
      "source": [
        "<a href=\"https://colab.research.google.com/github/AdmiralHonda/ml_intro/blob/main/ch04/emotion_analytics_ready.ipynb\" target=\"_parent\"><img src=\"https://colab.research.google.com/assets/colab-badge.svg\" alt=\"Open In Colab\"/></a>"
      ]
    },
    {
      "cell_type": "markdown",
      "source": [],
      "metadata": {
        "id": "tu4IGmYnT0tp"
      }
    },
    {
      "cell_type": "markdown",
      "source": [
        "# 調査検討課題（感情分析）の準備\n",
        "\n",
        "ここでは検討課題の分析対象のデータを取得します。  \n",
        "Yahooニュースのコメントを取得するスクリプトが含まれます"
      ],
      "metadata": {
        "id": "utWY9YegT0uh"
      }
    },
    {
      "cell_type": "code",
      "source": [
        "from ast import Attribute\n",
        "# @title Yahoo記事のコメントを取得\n",
        "import requests\n",
        "from bs4 import BeautifulSoup\n",
        "\n",
        "base_url = \"https://news.yahoo.co.jp/articles/f5b30c727e490a3d8ca8a05d5b6ab538c2fac80e\"\n",
        "\n",
        "comments = []                                                                           # 分析対象のコメント\n",
        "\n",
        "continue_flag = True\n",
        "iter = 1\n",
        "\n",
        "while continue_flag:\n",
        "  request_url = base_url + \"/comments?page=\" + str(iter)\n",
        "  response = requests.get(request_url)\n",
        "  scray_content = BeautifulSoup(response.content)\n",
        "  try:\n",
        "    comment_list = scray_content.find(\"div\",class_=\"viewableWrap\").find_all(\"ul\")[2].find_all(\"li\")\n",
        "  except AttributeError:\n",
        "    print(\"終了\")\n",
        "    continue_flag = False\n",
        "\n",
        "  if continue_flag:\n",
        "    for comment in comment_list:\n",
        "      try:\n",
        "        comments.append(comment.find_all(\"p\")[1].text)\n",
        "      except AttributeError:\n",
        "        pass\n",
        "      except IndexError:\n",
        "        pass\n",
        "    iter += 1\n",
        "  else:\n",
        "    pass"
      ],
      "metadata": {
        "id": "Z7ejqqcKUlEI",
        "cellView": "form"
      },
      "execution_count": null,
      "outputs": []
    },
    {
      "cell_type": "code",
      "source": [
        "# @title 取得したデータの保存\n",
        "import json\n",
        "from google.colab import drive # ドライブのマウント\n",
        "drive.mount(\"/content/drive\")\n",
        "\n",
        "with open(\"/content/drive/MyDrive/python_ml_intro/data/emotion_practice/emotion_practice.json\",\"w\") as f:\n",
        "  f.write(json.dumps(comments,ensure_ascii=False,indent=2))"
      ],
      "metadata": {
        "cellView": "form",
        "id": "Dw-9vUo5CjxY"
      },
      "execution_count": null,
      "outputs": []
    }
  ]
}