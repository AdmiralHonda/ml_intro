{
  "nbformat": 4,
  "nbformat_minor": 0,
  "metadata": {
    "colab": {
      "provenance": [],
      "authorship_tag": "ABX9TyO3eS7a5aUt9fPDHAdhF7cy",
      "include_colab_link": true
    },
    "kernelspec": {
      "name": "python3",
      "display_name": "Python 3"
    },
    "language_info": {
      "name": "python"
    }
  },
  "cells": [
    {
      "cell_type": "markdown",
      "metadata": {
        "id": "view-in-github",
        "colab_type": "text"
      },
      "source": [
        "<a href=\"https://colab.research.google.com/github/AdmiralHonda/ml_intro/blob/main/ch04/emotion_analytics_practice.ipynb\" target=\"_parent\"><img src=\"https://colab.research.google.com/assets/colab-badge.svg\" alt=\"Open In Colab\"/></a>"
      ]
    },
    {
      "cell_type": "code",
      "execution_count": null,
      "metadata": {
        "id": "Ev79_V4_HdsJ",
        "cellView": "form"
      },
      "outputs": [],
      "source": [
        "# @title 下準備（ubuntu環境なのでaptでインストールしてます）\n",
        "# 形態素分析ライブラリーMeCab と 辞書(mecab-ipadic-NEologd)のインストール \n",
        "!apt-get -q -y install sudo file mecab libmecab-dev mecab-ipadic-utf8 git curl python-mecab > /dev/null # mecabの利用に必要なライブラリのインストール\n",
        "!git clone --depth 1 https://github.com/neologd/mecab-ipadic-neologd.git > /dev/null                    # gitから辞書ファイルのクローン\n",
        "!echo yes | mecab-ipadic-neologd/bin/install-mecab-ipadic-neologd -n > /dev/null 2>&1                   # クローンした辞書のインストール\n",
        "!pip install mecab-python3==0.7 > /dev/null                                                             # 0.7以外だと謎のエラーが発生して安定しない(RunTime Error)\n",
        "\n",
        "# シンボリックリンクによるエラー回避\n",
        "!ln -s /etc/mecabrc /usr/local/etc/mecabrc                                                              # 辞書の参照先にインストール先のディレクトリを追加\n",
        "!echo `mecab-config --dicdir` \"/mecab-ipadic-neologd\"                                                   # mecabの設定ファイルに新しく辞書を追加したことを追記"
      ]
    },
    {
      "cell_type": "markdown",
      "source": [
        "# 感情分析でネットのコメントに対して分析をしてみよう\n",
        "\n",
        "今回の演習ではとあるニュースに対してのコメントから最も批判的、また好意的なコメントを抽出するということをやってもらいます。  \n",
        "SNSなどで炎上したときにコメントなどを追い、どんな反応が出ているのかを数値化して定量的に量ることで、他のトピックと比べてどれくらい世間が反応しているかや、有益なコメントを抽出することもできます。  \n",
        "今回取り組んでもらう感情分析のやり方としては、分析対象の文章中に対して否定的、肯定的な単語が何個あったかを数えて評価する方式を採用します。ほかにも機械学習を使用するやり方があります。  \n",
        "そのために後述する「日本語評価極性辞書」という日本語の単語に対して肯定的か否定的かなどの評価付けをしてある辞書を使用し、分析対象の単語に対してこの辞書から検索して評価を行っていくことになります。  \n",
        "\n",
        "<br>\n",
        "\n",
        "今回の手順:\n",
        "\n",
        "1. データの取得　　　　　　　　　　　　　（実行するだけ）\n",
        "2. 感情分析辞書の作成　　　　　　　　　　（実行するだけ）\n",
        "3. データの前処理　　　　　　　　　　　　（演習）\n",
        "4. データを分析にかけ、特徴ベクトルに変換（演習）\n",
        "5. 特徴ベクトルをもとにコメントを抽出　　（演習）  \n",
        "\n",
        "今回の抽出は[この記事](https://resanaplaza.com/2022/06/04/__trashed-2/)を参考にしています。ただ、どういった特徴ベクトルが目的のコメントに近いかは自分たちで判断し、考察してもらいます。  \n"
      ],
      "metadata": {
        "id": "z1tJ209BJLsw"
      }
    },
    {
      "cell_type": "code",
      "source": [
        "# @title データの取得\n",
        "\n",
        "import json\n",
        "import urllib.request\n",
        "\n",
        "# ネット上にホストしてある俺のサーバからjson形式のデータを取得\n",
        "with urllib.request.urlopen('https://admiralhonda-share-tech.on.drv.tw/python_ml_intro/data/emotion_practice/emotion_practice.json') as response:\n",
        "   comments = json.load(response)\n",
        "\n",
        "# サンプルを提示\n",
        "print(comments[0:1]) "
      ],
      "metadata": {
        "id": "EU3eLwzHTkEg",
        "cellView": "form"
      },
      "execution_count": null,
      "outputs": []
    },
    {
      "cell_type": "code",
      "source": [
        "# @title 感情分析辞書の作成\n",
        "\n",
        "with urllib.request.urlopen('https://admiralhonda-share-tech.on.drv.tw/python_ml_intro/data/emotion_practice/pn.csv.m3.120408.trim') as response:\n",
        "   lines = response.read().decode(\"utf-8\").split(\"\\n\")\n",
        "\n",
        "emotion_dic = {}\n",
        "for x in lines:\n",
        "  word_dic = x.split(\"\\t\")\n",
        "  try:\n",
        "    emotion_dic[word_dic[0]] = word_dic[1]\n",
        "  except IndexError:\n",
        "    print(word_dic)\n"
      ],
      "metadata": {
        "cellView": "form",
        "id": "jCNSRfBxVzS4"
      },
      "execution_count": null,
      "outputs": []
    },
    {
      "cell_type": "code",
      "source": [
        "# @title データの前処理\n",
        "\"\"\"\n",
        "commentsの中身は改行コードなどの特殊文字に対しての処理をしてないです\n",
        "\\t,\\r,\\nなどを削除しましょう\n",
        "\"\"\""
      ],
      "metadata": {
        "cellView": "form",
        "id": "JOGH2VuoZplY"
      },
      "execution_count": null,
      "outputs": []
    },
    {
      "cell_type": "markdown",
      "source": [
        "# データを特徴ベクトルに変換\n",
        "\n",
        "参考サイトにあるような特徴ベクトルを作成し、分析対象のコメントを定量的に量れる、また計算可能な形式へ変換します。   \n",
        "\n",
        "> **特徴ベクトルとは？**  \n",
        "ベクトルの要素一つ一つに重さや大きさ、年齢や点数などの対象する概念を特徴づける数値を割り当てたベクトル  \n",
        "例）車 -> (排気量,販売年数,燃費) -> (660,2011,15.4)\n",
        "\n",
        "今回使用するまた基礎とする特徴ベクトルとは以下のようなものです。  \n",
        "\n",
        "(肯定的な単語数,否定的な単語数,中性的な単語数,判定不能な単語数)   -> 例)(34,5,65,23)\n",
        "\n",
        "以上の4つの要素を持つベクトルとなります。\n",
        "\n",
        "## 日本語評価極性辞書\n",
        "\n",
        "今回感情分析に使用する辞書について簡単に説明します。  \n",
        "辞書の元データは項目をタブで区切り、データ自体を開業で区切るtsv形式のファイルになっています。以下の形式でデータが格納されています。  \n",
        "単語\\t評価\\t状態\\n  \n",
        "評価の部分に否定的か肯定的なのかの評価がラベル付けされる形で格納されています。最後の状態は行為を表すものか感覚として感じるものであるかなどの補足情報が付与されています。  \n",
        "\n",
        "評価に関しては以下の種類のラベルがあります。  \n",
        "- p\n",
        "肯定的な単語\n",
        "- n\n",
        "否定的な単語\n",
        "- e\n",
        "中性的な単語\n",
        "\n",
        "今回はこの辞書を単語をキーとして値が評価ラベルを返す辞書型の変数`emotion_dic`として使用します。  "
      ],
      "metadata": {
        "id": "O5CwZ6lkwhu7"
      }
    },
    {
      "cell_type": "code",
      "source": [
        "# @title データを特徴ベクトルに変換"
      ],
      "metadata": {
        "cellView": "form",
        "id": "YNleQtrdFcZQ"
      },
      "execution_count": null,
      "outputs": []
    },
    {
      "cell_type": "code",
      "source": [
        "# @title 特徴ベクトルをもとに最も肯定的、否定的なコメントを抽出"
      ],
      "metadata": {
        "cellView": "form",
        "id": "5JIOwX9WFkIY"
      },
      "execution_count": null,
      "outputs": []
    }
  ]
}